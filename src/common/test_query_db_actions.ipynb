{
 "cells": [
  {
   "cell_type": "code",
   "execution_count": 5,
   "metadata": {},
   "outputs": [],
   "source": [
    "import sys\n",
    "sys.path.append('d:\\\\FRAX_project\\\\FraxBot\\\\src\\\\')\n",
    "# sys.path\n",
    "\n",
    "from common import mongodb_connect\n",
    "from common import get_subscribed_wallets, add_wallets_for_subscription, update_wallets_for_subscription\n",
    "from common import format_telegram_metadata, check_returning_user, upload_channel_metadata, get_wallet_position"
   ]
  },
  {
   "cell_type": "code",
   "execution_count": 7,
   "metadata": {},
   "outputs": [
    {
     "name": "stdout",
     "output_type": "stream",
     "text": [
      "Initializing configurations...\n",
      "Connecting to MongoDB Client...\n",
      "Getting data collections...\n"
     ]
    }
   ],
   "source": [
    "(db, telegram_metadata, subscription, pairs, wallet_positions) = mongodb_connect()"
   ]
  },
  {
   "cell_type": "markdown",
   "metadata": {},
   "source": [
    " # Subscription functions"
   ]
  },
  {
   "cell_type": "code",
   "execution_count": 22,
   "metadata": {},
   "outputs": [
    {
     "data": {
      "text/plain": [
       "<pymongo.results.InsertOneResult at 0x2660fed5750>"
      ]
     },
     "execution_count": 22,
     "metadata": {},
     "output_type": "execute_result"
    }
   ],
   "source": [
    "subscription.insert_one(\n",
    "    {\n",
    "        'user_id':6278581236,\n",
    "        'wallets':['0xdb3388e770f49a604e11f1a2084b39279492a61f',\n",
    "                    '0x65cAD075628F4424120Dc76E1D683E925446B8CC',\n",
    "                    '0x3DF4C40b3C3f2B6E981799f57f58b73E647de3B6']\n",
    "        }\n",
    "        )"
   ]
  },
  {
   "cell_type": "code",
   "execution_count": 20,
   "metadata": {},
   "outputs": [
    {
     "data": {
      "text/plain": [
       "({'_id': ObjectId('64ad61eb7c34f8d742338606'),\n",
       "  'user_id': 6278581236,\n",
       "  'walltes': ['0xdb3388e770f49a604e11f1a2084b39279492a61f',\n",
       "   '0x65cAD075628F4424120Dc76E1D683E925446B8CC',\n",
       "   '0x3DF4C40b3C3f2B6E981799f57f58b73E647de3B6']},\n",
       " ['0xdb3388e770f49a604e11f1a2084b39279492a61f',\n",
       "  '0x65cAD075628F4424120Dc76E1D683E925446B8CC',\n",
       "  '0x3DF4C40b3C3f2B6E981799f57f58b73E647de3B6'])"
      ]
     },
     "execution_count": 20,
     "metadata": {},
     "output_type": "execute_result"
    }
   ],
   "source": [
    "user_id = 6278581236\n",
    "sub_dict = subscription.find_one({\"user_id\": user_id})\n",
    "if sub_dict:\n",
    "    wallets = sub_dict['wallets']\n",
    "    sub_dict, wallets\n",
    "else:\n",
    "    wallets = []\n",
    "\n",
    "sub_dict, wallets"
   ]
  },
  {
   "cell_type": "code",
   "execution_count": 8,
   "metadata": {},
   "outputs": [
    {
     "data": {
      "text/plain": [
       "{'_id': ObjectId('64ad6ce15b3b9f1ececcd9eb'),\n",
       " 'user_id': 6278581236,\n",
       " 'wallets': ['0xdb3388e770f49a604e11f1a2084b39279492a61f',\n",
       "  '0x65cAD075628F4424120Dc76E1D683E925446B8CC',\n",
       "  '0x3DF4C40b3C3f2B6E981799f57f58b73E647de3B6']}"
      ]
     },
     "execution_count": 8,
     "metadata": {},
     "output_type": "execute_result"
    }
   ],
   "source": [
    "# subscription.find_one({'user_id': 6278581239})\n",
    "subscription.find_one({'wallets': '0x3DF4C40b3C3f2B6E981799f57f58b73E647de3B6'})"
   ]
  },
  {
   "cell_type": "code",
   "execution_count": 23,
   "metadata": {},
   "outputs": [
    {
     "data": {
      "text/plain": [
       "<pymongo.results.UpdateResult at 0x26610b30af0>"
      ]
     },
     "execution_count": 23,
     "metadata": {},
     "output_type": "execute_result"
    }
   ],
   "source": [
    "wallets = ['0xFFF388e770f49a604e11f1a2084b39279492a61f',\n",
    "  '0xFFFAD075628F4424120Dc76E1D683E925446B8CC',\n",
    "  '0xFFF4C40b3C3f2B6E981799f57f58b73E647de3B6']\n",
    "user_id = 6278581237\n",
    "subscription.update_one({\"user_id\": user_id}, {\"$set\":{\"wallets\": wallets}})\n",
    "\n"
   ]
  },
  {
   "cell_type": "code",
   "execution_count": 19,
   "metadata": {},
   "outputs": [
    {
     "data": {
      "text/plain": [
       "['0xdb3388e770f49a604e11f1a2084b39279492a61f',\n",
       " '0x65cAD075628F4424120Dc76E1D683E925446B8CC',\n",
       " '0x3DF4C40b3C3f2B6E981799f57f58b73E647de3B6']"
      ]
     },
     "execution_count": 19,
     "metadata": {},
     "output_type": "execute_result"
    }
   ],
   "source": [
    "def get_subscribed_wallets(collection_db, user_id: int):\n",
    "    \"\"\"\n",
    "    Get the wallets subscribed by an user_id\n",
    "    \"\"\"\n",
    "    sub_dict = collection_db.find_one({\"user_id\": user_id})\n",
    "    if sub_dict:\n",
    "        wallets = sub_dict['walltes']\n",
    "        if not isinstance(wallets, list):\n",
    "            wallets = [wallets]\n",
    "\n",
    "    else:\n",
    "        wallets = []\n",
    "    return wallets\n",
    "\n",
    "wallets = get_subscribed_wallets(subscription, 6278581236) \n",
    "wallets"
   ]
  },
  {
   "cell_type": "code",
   "execution_count": 34,
   "metadata": {},
   "outputs": [],
   "source": [
    "def add_wallet_for_subscription(collection_db, user_id: int, new_wallets: list):\n",
    "    #update subscription\n",
    "    collection_db.insert_one(\n",
    "        {\n",
    "        \"user_id\": user_id,\n",
    "        \"wallets\": new_wallets\n",
    "        }\n",
    "        )\n",
    "    return None\n",
    "\n",
    "def update_wallet_for_subscription(collection_db, user_id: int, new_wallets: list):\n",
    "    #update subscription\n",
    "    collection_db.update_one(\n",
    "        {\"user_id\": user_id},\n",
    "        {\"$set\":{\"wallets\": new_wallets}}\n",
    "        )\n",
    "    return None\n",
    "    "
   ]
  },
  {
   "cell_type": "code",
   "execution_count": 35,
   "metadata": {},
   "outputs": [],
   "source": [
    "wallets = ['0xFFF388e770f49a604e11f1a2084b39279492a61f',\n",
    "  '0xFFFAD075628F4424120Dc76E1D683E925446B8CC',\n",
    "  '0xFFF4C40b3C3f2B6E981799f57f58b73E647de3B6']\n",
    "add_wallet_for_subscription(subscription, 6278581239, wallets)"
   ]
  },
  {
   "cell_type": "code",
   "execution_count": 3,
   "metadata": {},
   "outputs": [
    {
     "ename": "NameError",
     "evalue": "name 'update_wallet_for_subscription' is not defined",
     "output_type": "error",
     "traceback": [
      "\u001b[1;31m---------------------------------------------------------------------------\u001b[0m",
      "\u001b[1;31mNameError\u001b[0m                                 Traceback (most recent call last)",
      "Cell \u001b[1;32mIn[3], line 5\u001b[0m\n\u001b[0;32m      1\u001b[0m new_wallets \u001b[39m=\u001b[39m [\u001b[39m'\u001b[39m\u001b[39m0xFFF388e770f49a604e11f1a2084b39279492a61f\u001b[39m\u001b[39m'\u001b[39m,\n\u001b[0;32m      2\u001b[0m   \u001b[39m'\u001b[39m\u001b[39m0xFFFAD075628F4424120Dc76E1D683E925446B8CC\u001b[39m\u001b[39m'\u001b[39m,\n\u001b[0;32m      3\u001b[0m   \u001b[39m'\u001b[39m\u001b[39m0xFFF4C40b3C3f2B6E981799f57f58b73E647de3B6\u001b[39m\u001b[39m'\u001b[39m,\n\u001b[0;32m      4\u001b[0m   \u001b[39m'\u001b[39m\u001b[39m0xFFF444444C3f2B6E981799f57f58b73E647de3B6\u001b[39m\u001b[39m'\u001b[39m]\n\u001b[1;32m----> 5\u001b[0m update_wallet_for_subscription(subscription, \u001b[39m6278581239\u001b[39m, new_wallets)\n",
      "\u001b[1;31mNameError\u001b[0m: name 'update_wallet_for_subscription' is not defined"
     ]
    }
   ],
   "source": [
    "# new_wallets = ['0xFFF388e770f49a604e11f1a2084b39279492a61f',\n",
    "#   '0xFFFAD075628F4424120Dc76E1D683E925446B8CC',\n",
    "#   '0xFFF4C40b3C3f2B6E981799f57f58b73E647de3B6',\n",
    "#   '0xFFF444444C3f2B6E981799f57f58b73E647de3B6']\n",
    "# update_wallet_for_subscription(subscription, 6278581239, new_wallets)"
   ]
  },
  {
   "cell_type": "code",
   "execution_count": 4,
   "metadata": {},
   "outputs": [],
   "source": [
    "new_wallets = ['0xFFF388e770f49a604e11f1a2084b39279492a61f',\n",
    "  '0xFFFAD075628F4424120Dc76E1D683E925446B8CC',\n",
    "  '0xFFF4C40b3C3f2B6E981799f57f58b73E647de3B6',\n",
    "  '0xFFF444444C3f2B6E981799f57f58b73E647de3B6']\n",
    "update_wallets_for_subscription(subscription, 6278581239, new_wallets)"
   ]
  },
  {
   "cell_type": "code",
   "execution_count": 15,
   "metadata": {},
   "outputs": [
    {
     "name": "stdout",
     "output_type": "stream",
     "text": [
      "unsub_wallet - 0xFFF444444C3f2B6E981799f57f58b73E647de3B6\n",
      "modified_wallet_list - ['0xFFF388e770f49a604e11f1a2084b39279492a61f', '0xFFFAD075628F4424120Dc76E1D683E925446B8CC', '0xFFF4C40b3C3f2B6E981799f57f58b73E647de3B6']\n"
     ]
    }
   ],
   "source": [
    "user_id  = 6278581239 #R tracker.sender_id\n",
    "unsub_wallet = \"0xFFF444444C3f2B6E981799f57f58b73E647de3B6\" #tracker.slots[\"slot_wallet_id\"]\n",
    "print(f\"unsub_wallet - {unsub_wallet}\")\n",
    "\n",
    "subscribed_wallets = get_subscribed_wallets(subscription, user_id)\n",
    "# remove the selected wallet from list of subscibed wallets\n",
    "try:\n",
    "    modified_wallet_list = subscribed_wallets.copy()\n",
    "    modified_wallet_list.remove(unsub_wallet)\n",
    "except:\n",
    "    modified_wallet_list = subscribed_wallets\n",
    "print(f\"modified_wallet_list - {modified_wallet_list}\")\n",
    "\n"
   ]
  },
  {
   "cell_type": "code",
   "execution_count": 16,
   "metadata": {},
   "outputs": [],
   "source": [
    "update_wallets_for_subscription(subscription, user_id, modified_wallet_list)"
   ]
  },
  {
   "cell_type": "markdown",
   "metadata": {},
   "source": [
    "# Telegram Metadata Functions"
   ]
  },
  {
   "cell_type": "code",
   "execution_count": 10,
   "metadata": {},
   "outputs": [
    {
     "data": {
      "text/plain": [
       "True"
      ]
     },
     "execution_count": 10,
     "metadata": {},
     "output_type": "execute_result"
    }
   ],
   "source": [
    "user_id  = 6278581236 #R tracker.sender_id\n",
    "returning_user = check_returning_user(telegram_metadata, user_id)\n",
    "returning_user"
   ]
  },
  {
   "cell_type": "markdown",
   "metadata": {},
   "source": [
    "# Wallet Positions Functions"
   ]
  },
  {
   "cell_type": "code",
   "execution_count": 8,
   "metadata": {},
   "outputs": [
    {
     "data": {
      "text/plain": [
       "'Example wallet infor Data- 100'"
      ]
     },
     "execution_count": 8,
     "metadata": {},
     "output_type": "execute_result"
    }
   ],
   "source": [
    "wallet_id = \"0xAFF4C40b3C3f2B6E981799f57f58b73E647de3B6\"\n",
    "wallet_positions_data = get_wallet_position(wallet_positions, wallet_id)\n",
    "wallet_positions_data"
   ]
  },
  {
   "cell_type": "code",
   "execution_count": null,
   "metadata": {},
   "outputs": [],
   "source": []
  }
 ],
 "metadata": {
  "kernelspec": {
   "display_name": "env_fraxbot",
   "language": "python",
   "name": "python3"
  },
  "language_info": {
   "codemirror_mode": {
    "name": "ipython",
    "version": 3
   },
   "file_extension": ".py",
   "mimetype": "text/x-python",
   "name": "python",
   "nbconvert_exporter": "python",
   "pygments_lexer": "ipython3",
   "version": "3.10.0"
  },
  "orig_nbformat": 4
 },
 "nbformat": 4,
 "nbformat_minor": 2
}
