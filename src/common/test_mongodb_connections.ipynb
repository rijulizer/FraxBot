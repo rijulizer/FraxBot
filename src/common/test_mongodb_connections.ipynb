{
 "cells": [
  {
   "cell_type": "code",
   "execution_count": 4,
   "metadata": {},
   "outputs": [],
   "source": [
    "import pymongo\n",
    "from pymongo import MongoClient\n",
    "import yaml\n",
    "# Load config file\n",
    "config_stream = open(\"./config.yml\",'r')\n",
    "config = yaml.load(config_stream, Loader=yaml.BaseLoader)\n",
    "mongoDb_uri = config['mongo_db']['uri']\n",
    "\n",
    "client = MongoClient(mongoDb_uri,\n",
    "                     tls=True,\n",
    "                     tlsCertificateKeyFile=\"../mongodb_user_certificate.pem\")\n",
    "# get database\n",
    "db = client['FraxBot_db']\n",
    "# get individual collections (~dataframes)\n",
    "collection = db['pairs']"
   ]
  },
  {
   "cell_type": "code",
   "execution_count": 1,
   "metadata": {},
   "outputs": [],
   "source": [
    "import pymongo\n",
    "from pymongo import MongoClient\n",
    "import yaml\n",
    "import os\n",
    "\n",
    "def mongodb_connect():\n",
    "    \"\"\"Connects to mongodb atlas and returns different collections\"\"\"\n",
    "\n",
    "    print(\"Initializing configurations...\")\n",
    "    # Load config file\n",
    "    config_stream = open(\"../common_config.yml\",'r')\n",
    "    config = yaml.load(config_stream, Loader=yaml.BaseLoader)\n",
    "\n",
    "    mongoDb_uri = config['mongo_db']['uri']\n",
    "\n",
    "    print(\"Connecting to MongoDB Client...\")\n",
    "    client = MongoClient(mongoDb_uri,\n",
    "                        tls=True,\n",
    "                        tlsCertificateKeyFile=\"../../mongodb_user_certificate.pem\")\n",
    "\n",
    "    print(\"Getting data collections...\")\n",
    "\n",
    "    db = client[config['mongo_db']['database']]\n",
    "    pairs = db[config['mongo_db']['pairs_schema']]\n",
    "    telegram_metadata = db[config['mongo_db']['telegram_metadata_schema']]\n",
    "    wallet = db[config['mongo_db']['wallets_schema']]\n",
    "    subscription = db[config['mongo_db']['subscription_schema']]\n",
    "    \n",
    "    return (db, telegram_metadata, subscription, pairs, wallet)\n"
   ]
  },
  {
   "cell_type": "code",
   "execution_count": 2,
   "metadata": {},
   "outputs": [
    {
     "name": "stdout",
     "output_type": "stream",
     "text": [
      "Initializing configurations...\n",
      "Connecting to MongoDB Client...\n",
      "Getting data collections...\n"
     ]
    },
    {
     "data": {
      "text/plain": [
       "<pymongo.results.InsertOneResult at 0x214873920b0>"
      ]
     },
     "execution_count": 2,
     "metadata": {},
     "output_type": "execute_result"
    }
   ],
   "source": [
    "# temp = db.temp\n",
    "# temp.insert_one({'name':'Megha','hobby':'sketching'})\n",
    "(db, telegram_metadata, subscription, pairs, wallet) = mongodb_connect()\n"
   ]
  },
  {
   "cell_type": "code",
   "execution_count": 3,
   "metadata": {},
   "outputs": [
    {
     "data": {
      "text/plain": [
       "<pymongo.results.InsertOneResult at 0x21487b835b0>"
      ]
     },
     "execution_count": 3,
     "metadata": {},
     "output_type": "execute_result"
    }
   ],
   "source": [
    "subscription.insert_one(\n",
    "    {\n",
    "        'user_id':6278581236,\n",
    "        'walltes':['0xdb3388e770f49a604e11f1a2084b39279492a61f',\n",
    "                    '0x65cAD075628F4424120Dc76E1D683E925446B8CC',\n",
    "                    '0x3DF4C40b3C3f2B6E981799f57f58b73E647de3B6']\n",
    "        }\n",
    "        )"
   ]
  },
  {
   "cell_type": "code",
   "execution_count": null,
   "metadata": {},
   "outputs": [],
   "source": []
  }
 ],
 "metadata": {
  "kernelspec": {
   "display_name": "env_fraxbot",
   "language": "python",
   "name": "python3"
  },
  "language_info": {
   "codemirror_mode": {
    "name": "ipython",
    "version": 3
   },
   "file_extension": ".py",
   "mimetype": "text/x-python",
   "name": "python",
   "nbconvert_exporter": "python",
   "pygments_lexer": "ipython3",
   "version": "3.10.0"
  },
  "orig_nbformat": 4
 },
 "nbformat": 4,
 "nbformat_minor": 2
}
