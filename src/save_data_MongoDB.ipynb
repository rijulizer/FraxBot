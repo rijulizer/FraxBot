{
 "cells": [
  {
   "cell_type": "code",
   "execution_count": 4,
   "metadata": {},
   "outputs": [],
   "source": [
    "import pymongo\n",
    "from pymongo import MongoClient\n",
    "import yaml\n",
    "# Load config file\n",
    "config_stream = open(\"./config.yml\",'r')\n",
    "config = yaml.load(config_stream, Loader=yaml.BaseLoader)\n",
    "mongoDb_uri = config['mongo_db']['uri']\n",
    "\n",
    "client = MongoClient(mongoDb_uri,\n",
    "                     tls=True,\n",
    "                     tlsCertificateKeyFile=\"../mongodb_user_certificate.pem\")\n",
    "# get database\n",
    "db = client['FraxBot_db']\n",
    "# get individual collections (~dataframes)\n",
    "collection = db['pairs']"
   ]
  }
 ],
 "metadata": {
  "kernelspec": {
   "display_name": "env_fraxbot",
   "language": "python",
   "name": "python3"
  },
  "language_info": {
   "codemirror_mode": {
    "name": "ipython",
    "version": 3
   },
   "file_extension": ".py",
   "mimetype": "text/x-python",
   "name": "python",
   "nbconvert_exporter": "python",
   "pygments_lexer": "ipython3",
   "version": "3.10.0"
  },
  "orig_nbformat": 4
 },
 "nbformat": 4,
 "nbformat_minor": 2
}
